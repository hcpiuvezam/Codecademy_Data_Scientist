{
  "cells": [
    {
      "cell_type": "markdown",
      "metadata": {
        "id": "HQc1xhi7Z_Z6"
      },
      "source": [
        "# Casual Coded Correspondence: The Project\n",
        "\n",
        "In this project, you will be working to code and decode various messages between you and your fictional cryptography enthusiast pen pal Vishal. You and Vishal have been exchanging letters for quite some time now and have started to provide a puzzle in each one of your letters.  Here is his most recent letter:\n",
        "\n",
        "     Hey there! How have you been? I've been great! I just learned about this really cool type of cipher called a  Caesar Cipher. Here's how it works: You take your message, something like \"hello\" and then you shift all of the letters by a certain offset. For example, if I chose an offset of 3 and a message of \"hello\", I would code my message by shifting each letter 3 places to the left (with respect to the alphabet). So \"h\" becomes \"e\", \"e\" becomes, \"b\", \"l\" becomes \"i\", and \"o\" becomes \"l\". Then I have my coded message,\"ebiil\"! Now I can send you my message and the offset and you can decode it. The best thing is that Julius Caesar himself used this cipher, that's why it's called the Caesar Cipher! Isn't that so cool! Okay, now I'm going to send you a longer coded message that you have to decode yourself!\n",
        "    \n",
        "        xuo jxuhu! jxyi yi qd unqcfbu ev q squiqh syfxuh. muhu oek qrbu je tusetu yj? y xefu ie! iudt cu q cuiiqwu rqsa myjx jxu iqcu evviuj!\n",
        "    \n",
        "    This message has an offset of 10. Can you decode it?\n",
        "    \n",
        "\n",
        "#### Step 1: Decode Vishal's Message\n",
        "In the cell below, use your Python skills to decode Vishal's message and print the result. Hint: you can account for shifts that go past the end of the alphabet using the modulus operator, but I'll let you figure out how!"
      ]
    },
    {
      "cell_type": "code",
      "execution_count": 1,
      "metadata": {
        "id": "d2QTamrXZ_aE"
      },
      "outputs": [],
      "source": [
        "#@title Cypher Functions\n",
        "def caesar_encode(decode, offset):\n",
        "  alphabet = \"abcdefghijklmnopqrstuvwxyz\"\n",
        "  coded = \"\"\n",
        "  for i in decode.lower():\n",
        "    if i not in alphabet:\n",
        "      coded += i\n",
        "    else:\n",
        "      for j in range(len(alphabet)):\n",
        "        if i == alphabet[j]:\n",
        "          coded += alphabet[j - offset]\n",
        "  return coded\n",
        "\n",
        "def caesar_decode(code, offset):\n",
        "  alphabet = \"abcdefghijklmnopqrstuvwxyz\"\n",
        "  decoded = \"\"\n",
        "  for i in code.lower():\n",
        "    if i not in alphabet:\n",
        "      decoded += i\n",
        "    else:\n",
        "      for j in range(len(alphabet)):\n",
        "        if i == alphabet[j]:\n",
        "          decoded += alphabet[min(j + offset, j + offset - len(alphabet))]\n",
        "  return decoded"
      ]
    },
    {
      "cell_type": "code",
      "source": [
        "message_coded = \"xuo jxuhu! jxyi yi qd unqcfbu ev q squiqh syfxuh. muhu oek qrbu je tusetu yj? y xefu ie! iudt cu q cuiiqwu rqsa myjx jxu iqcu evviuj!\"\n",
        "\n",
        "print(caesar_encode('Hello!', 3))\n",
        "print(caesar_decode(caesar_encode('Hello!', 3), 3))\n",
        "print(caesar_decode(message_coded, 10).title())"
      ],
      "metadata": {
        "colab": {
          "base_uri": "https://localhost:8080/"
        },
        "id": "naXgBeZ9awsc",
        "outputId": "7b8f2850-af27-481a-bb88-e4f178757346"
      },
      "execution_count": 4,
      "outputs": [
        {
          "output_type": "stream",
          "name": "stdout",
          "text": [
            "ebiil!\n",
            "hello!\n",
            "Hey There! This Is An Example Of A Caesar Cipher. Were You Able To Decode It? I Hope So! Send Me A Message Back With The Same Offset!\n"
          ]
        }
      ]
    },
    {
      "cell_type": "markdown",
      "metadata": {
        "id": "RVc1ENAVZ_aF"
      },
      "source": [
        "#### Step 2: Send Vishal a Coded Message\n",
        "Great job! Now send Vishal back a message using the same offset. Your message can be anything you want! Remember, coding happens in opposite direction of decoding."
      ]
    },
    {
      "cell_type": "code",
      "execution_count": 7,
      "metadata": {
        "colab": {
          "base_uri": "https://localhost:8080/"
        },
        "id": "2MhA4fIbZ_aH",
        "outputId": "70d8c683-860a-4c25-c891-cc5a793d946f"
      },
      "outputs": [
        {
          "output_type": "stream",
          "name": "stdout",
          "text": [
            "xuo, yj jeea cu q ryj je wuj jxu dkcruhi sehhusj, rkj co ytuq mqi qbhywxj vhec jxu ruwyddydw.\n",
            "hey, it took me a bit to get the numbers correct, but my idea was alright from the beginning.\n"
          ]
        }
      ],
      "source": [
        "answer_to_vishal = \"Hey, it took me a bit to get the numbers correct, but my idea was alright from the beginning.\"\n",
        "\n",
        "print(caesar_encode(answer_to_vishal, 10))\n",
        "print(caesar_decode(caesar_encode(answer_to_vishal, 10), 10))"
      ]
    },
    {
      "cell_type": "markdown",
      "metadata": {
        "id": "ZkoXbqRWZ_aJ"
      },
      "source": [
        "#### Step 3: Make functions for decoding and coding \n",
        "\n",
        "Vishal sent over another reply, this time with two coded messages!\n",
        "    \n",
        "    You're getting the hang of this! Okay here are two more messages, the first one is coded just like before with  an offset of ten, and it contains the hint for decoding the second message!\n",
        "    \n",
        "    First message:\n",
        "    \n",
        "        jxu evviuj veh jxu iusedt cuiiqwu yi vekhjuud.\n",
        "        \n",
        "    Second message:\n",
        "    \n",
        "        bqdradyuzs ygxfubxq omqemd oubtqde fa oapq kagd yqeemsqe ue qhqz yadq eqogdq!\n",
        "    \n",
        "Decode both of these messages. \n",
        "\n",
        "If you haven't already, define two functions `decoder(message, offset)` and `coder(message, offset)` that can be used to quickly decode and code messages given any offset."
      ]
    },
    {
      "cell_type": "code",
      "execution_count": 13,
      "metadata": {
        "colab": {
          "base_uri": "https://localhost:8080/"
        },
        "id": "QbNgdMV8Z_aK",
        "outputId": "eef73ded-5f2d-421c-b135-f1f8424791f1"
      },
      "outputs": [
        {
          "output_type": "stream",
          "name": "stdout",
          "text": [
            "The Offset For The Second Message Is Fourteen.\n"
          ]
        }
      ],
      "source": [
        "first_new_code = \"jxu evviuj veh jxu iusedt cuiiqwu yi vekhjuud.\"\n",
        "\n",
        "print(caesar_decode(first_new_code, 10).title())"
      ]
    },
    {
      "cell_type": "code",
      "execution_count": 12,
      "metadata": {
        "colab": {
          "base_uri": "https://localhost:8080/"
        },
        "id": "v40TavVuZ_aL",
        "outputId": "ac15a12c-b8f6-450f-f1f5-634b7f5dadea"
      },
      "outputs": [
        {
          "output_type": "stream",
          "name": "stdout",
          "text": [
            "Performing Multiple Caesar Ciphers To Code Your Messages Is Even More Secure!\n"
          ]
        }
      ],
      "source": [
        "second_new_code = \"bqdradyuzs ygxfubxq omqemd oubtqde fa oapq kagd yqeemsqe ue qhqz yadq eqogdq!\"\n",
        "\n",
        "print(caesar_decode(second_new_code, 14).title())"
      ]
    },
    {
      "cell_type": "markdown",
      "metadata": {
        "id": "jbj-kVZKZ_aO"
      },
      "source": [
        "#### Step 4: Solving a Caesar Cipher without knowing the shift value\n",
        "\n",
        "Awesome work! While you were working to decode his last two messages, Vishal sent over another letter! He's really been bitten by the crytpo-bug. Read it and see what interesting task he has lined up for you this time.\n",
        "\n",
        "            Hello again friend! I knew you would love the Caesar Cipher, it's a cool simple way to encrypt messages. Did you know that back in Caesar's time, it was considered a very secure way of communication and it took a lot of effort to crack if you were unaware of the value of the shift? That's all changed with computers! Now we can brute force these kinds of ciphers very quickly, as I'm sure you can imagine.\n",
        "            \n",
        "            To test your cryptography skills, this next coded message is going to be harder than the last couple to crack. It's still going to be coded with a Caesar Cipher but this time I'm not going to tell you the value of   the shift. You'll have to brute force it yourself.\n",
        "            \n",
        "            Here's the coded message:\n",
        "            \n",
        "            vhfinmxkl atox kxgwxkxw tee hy maxlx hew vbiaxkl tl hulhexmx. px'ee atox mh kxteer lmxi ni hnk ztfx by px ptgm mh dxxi hnk fxlltzxl ltyx.\n",
        "            \n",
        "            Good luck!\n",
        "            \n",
        "Decode Vishal's most recent message and see what it says!"
      ]
    },
    {
      "cell_type": "code",
      "execution_count": 11,
      "metadata": {
        "colab": {
          "base_uri": "https://localhost:8080/"
        },
        "id": "ESZLknS_Z_aQ",
        "outputId": "145ff373-9103-4d9e-8869-20038c5dc720"
      },
      "outputs": [
        {
          "output_type": "stream",
          "name": "stdout",
          "text": [
            "Computers Have Rendered All Of These Old Ciphers Obsolete. We'Ll Have To Really Step Up Our Game If We Want To Keep Our Messages Safe.\n"
          ]
        }
      ],
      "source": [
        "new_message = \"vhfinmxkl atox kxgwxkxw tee hy maxlx hew vbiaxkl hulhexmx. px'ee atox mh kxteer lmxi ni hnk ztfx by px ptgm mh dxxi hnk fxlltzxl ltyx.\"\n",
        "\n",
        "print(caesar_decode(new_message, 7).title())\n",
        "# Easy by using the knowledge that the letters after de ' are \"l\" due to being repeated letters that are the same.\n",
        "# One of the reasons humans are cool is that we don't have to test a lot of things, sometimes just looking at things give us insights."
      ]
    },
    {
      "cell_type": "markdown",
      "metadata": {
        "id": "rhTQ1PX9Z_aQ"
      },
      "source": [
        "#### Step 5: The Vigenère Cipher\n",
        "\n",
        "Great work! While you were working on the brute force cracking of the cipher, Vishal sent over another letter. That guy is a letter machine!\n",
        "\n",
        "            Salutations! As you can see, technology has made brute forcing simple ciphers like the Caesar Cipher extremely easy, and us crypto-enthusiasts have had to get more creative and use more complicated ciphers. This next cipher I'm going to teach you is the Vigenère Cipher, invented by an Italian cryptologist named Giovan Battista Bellaso (cool name eh?) in the 16th century, but named after another cryptologist from the 16th century, Blaise de Vigenère.\n",
        "            \n",
        "           The Vigenère Cipher is a polyalphabetic substitution cipher, as opposed to the Caesar Cipher which was a monoalphabetic substitution cipher. What this means is that opposed to having a single shift that is applied to every letter, the Vigenère Cipher has a different shift for each individual letter. The value of the shift for each letter is determined by a given keyword.\n",
        "           \n",
        "           Consider the message\n",
        "           \n",
        "               barry is the spy\n",
        "\n",
        "           If we want to code this message, first we choose a keyword. For this example, we'll use the keyword\n",
        "           \n",
        "               dog\n",
        "               \n",
        "           Now we use the repeat the keyword over and over to generate a _keyword phrase_ that is the same length as the message we want to code. So if we want to code the message \"barry is the spy\" our _keyword phrase_ is \"dogdo gd ogd ogd\". Now we are ready to start coding our message. We shift the each letter of our message by the place value of the corresponding letter in the keyword phrase, assuming that \"a\" has a place value of 0, \"b\" has a place value of 1, and so forth. Remember, we zero-index because this is Python we're talking about!\n",
        "\n",
        "                        message:       b  a  r  r  y    i  s   t  h  e   s  p  y\n",
        "                \n",
        "                 keyword phrase:       d  o  g  d  o    g  d   o  g  d   o  g  d\n",
        "                 \n",
        "          resulting place value:       4  14 15 12 16   24 11  21 25 22  22 17 5\n",
        "      \n",
        "            So we shift \"b\", which has an index of 1, by the index of \"d\", which is 3. This gives us an place value of 4, which is \"e\". Then continue the trend: we shift \"a\" by the place value of \"o\", 14, and get \"o\" again, we shift \"r\" by the place value of \"g\", 15, and get \"x\", shift the next \"r\" by 12 places and \"u\", and so forth. Once we complete all the shifts we end up with our coded message:\n",
        "            \n",
        "                eoxum ov hnh gvb\n",
        "                \n",
        "            As you can imagine, this is a lot harder to crack without knowing the keyword! So now comes the hard part. I'll give you a message and the keyword, and you'll see if you can figure out how to crack it! Ready? Okay here's my message:\n",
        "            \n",
        "                dfc aruw fsti gr vjtwhr wznj? vmph otis! cbx swv jipreneo uhllj kpi rahjib eg fjdkwkedhmp!\n",
        "                \n",
        "            and the keyword to decode my message is \n",
        "            \n",
        "                friends\n",
        "                \n",
        "            Because that's what we are! Good luck friend!\n",
        "           \n",
        "And there it is. Vishal has given you quite the assignment this time! Try to decode his message. It may be helpful to create a function that takes two parameters, the coded message and the keyword and then work towards a solution from there.\n",
        "\n",
        "**NOTE:** Watch out for spaces and punctuation! When there's a space or punctuation mark in the original message, there should be a space/punctuation mark in the corresponding repeated-keyword string as well! "
      ]
    },
    {
      "cell_type": "code",
      "execution_count": 15,
      "metadata": {
        "id": "J1pwqJU1Z_aR"
      },
      "outputs": [],
      "source": [
        "#@title Function for the Cypher\n",
        "\n",
        "def vigenere_cypher(message, keyword, decode = True):\n",
        "  amount_of_letters_message = len(message.replace(\" \", \"\"))\n",
        "  amount_of_letters_keyword = len(keyword)\n",
        "  \n",
        "  amount_of_keywords = amount_of_letters_message // amount_of_letters_keyword + 1\n",
        "\n",
        "  alphabet = \"abcdefghijklmnopqrstuvwxyz\"\n",
        "\n",
        "  keyword_phrase = (amount_of_keywords * keyword)[:amount_of_letters_message]\n",
        "\n",
        "  letters_indexes = [alphabet.rfind(x) for x in keyword_phrase]\n",
        "\n",
        "  new_message = \"\"\n",
        "  k=0\n",
        "\n",
        "  for i in message.lower():\n",
        "    if i not in alphabet:\n",
        "      new_message += i\n",
        "    else:\n",
        "      if decode:\n",
        "        new_message += caesar_decode(i, letters_indexes[k])\n",
        "      else:\n",
        "        new_message += caesar_encode(i, letters_indexes[k])\n",
        "      k += 1\n",
        "\n",
        "  return new_message"
      ]
    },
    {
      "cell_type": "code",
      "source": [
        "message = \"barry is the spy\"\n",
        "keyword = 'dog'\n",
        "\n",
        "print(vigenere_cypher(message, keyword, decode = False))\n",
        "\n",
        "vigenere_message = \"txm srom vkda gl lzlgzr qpdb? fepb ejac! ubr imn tapludwy mhfbz cza ruxzal wg zztcgcexxch!\"\n",
        "keyword_2 = \"friends\"\n",
        "\n",
        "print(vigenere_cypher(vigenere_message, keyword_2, decode = True))"
      ],
      "metadata": {
        "colab": {
          "base_uri": "https://localhost:8080/"
        },
        "id": "9VecU02zcCBx",
        "outputId": "5b2da2d9-24cb-46b2-a824-e4767e1350ee"
      },
      "execution_count": 16,
      "outputs": [
        {
          "output_type": "stream",
          "name": "stdout",
          "text": [
            "ymlok cp fbb ejv\n",
            "you were able to decode this? nice work! you are becoming quite the expert at crytography!\n"
          ]
        }
      ]
    },
    {
      "cell_type": "markdown",
      "metadata": {
        "collapsed": true,
        "id": "JniY4_-kZ_aR"
      },
      "source": [
        "#### Step 6: Send a message with the  Vigenère Cipher\n",
        "Great work decoding the message. For your final task, write a function that can encode a message using a given keyword and write out a message to send to Vishal!\n",
        "\n",
        "*As a bonus, try calling your decoder function on the result of your encryption function. You should get the original message back!*"
      ]
    },
    {
      "cell_type": "code",
      "execution_count": 18,
      "metadata": {
        "colab": {
          "base_uri": "https://localhost:8080/"
        },
        "id": "4S92LtRzZ_aS",
        "outputId": "7fb4b039-0729-4bde-a28c-614211eb20af"
      },
      "outputs": [
        {
          "output_type": "stream",
          "name": "stdout",
          "text": [
            "d rbqk gckfz qvij ba zudttn. og mkzdtqn sr onno ibyoab of v rbo us aaa wkpvafz ybhkgdsrn cbmqvim nij tzzgdtt axhnzevzry cvon ljae xuqz ini snfk lja yjyr notcz ba zudy.\n",
            "I Love These Kind Of Things. It Reminds Me That Coding Is A Lot Of Fun Because Sometimes Working And Getting Frustrated With Your Code Can Make You Lose Sight Of This.\n"
          ]
        }
      ],
      "source": [
        "my_new_message = \"I love these kind of things. It reminds me that coding is a lot of fun because sometimes working and getting frustrated with your code can make you lose sight of this.\"\n",
        "\n",
        "keyword_fun = \"fun\"\n",
        "\n",
        "print(vigenere_cypher(my_new_message, keyword_fun, decode = False))\n",
        "print(vigenere_cypher(vigenere_cypher(my_new_message, keyword_fun, decode = False), keyword_fun, True).title())"
      ]
    },
    {
      "cell_type": "markdown",
      "metadata": {
        "id": "pE5sNvRiZ_aS"
      },
      "source": [
        "#### Conclusion\n",
        "Over the course of this project you've learned about two different cipher methods and have used your Python skills to code and decode messages. There are all types of other facinating ciphers out there to explore, and Python is the perfect language to implement them with, so go exploring! "
      ]
    }
  ],
  "metadata": {
    "kernelspec": {
      "display_name": "Python 3",
      "language": "python",
      "name": "python3"
    },
    "language_info": {
      "codemirror_mode": {
        "name": "ipython",
        "version": 3
      },
      "file_extension": ".py",
      "mimetype": "text/x-python",
      "name": "python",
      "nbconvert_exporter": "python",
      "pygments_lexer": "ipython3",
      "version": "3.7.4"
    },
    "colab": {
      "provenance": []
    }
  },
  "nbformat": 4,
  "nbformat_minor": 0
}